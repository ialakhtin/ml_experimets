{
 "cells": [
  {
   "cell_type": "code",
   "execution_count": 13,
   "metadata": {},
   "outputs": [],
   "source": [
    "in_dir = 'data/'\n",
    "out_dir = 'prepared_data/'"
   ]
  },
  {
   "cell_type": "markdown",
   "metadata": {},
   "source": [
    "### Пушкин"
   ]
  },
  {
   "cell_type": "code",
   "execution_count": 12,
   "metadata": {},
   "outputs": [
    {
     "name": "stdout",
     "output_type": "stream",
     "text": [
      "['* * *\\n', '\\n', \"\\t\\tDis moi, pourquoi l'Escamoteur\\n\", '\\t\\tfist-il siffl&#233; par le parterre?\\n', \"\\t\\tH&#233;las! c'est que le pauvre auteur\\n\", \"\\t\\tL'escamota de Moli&#233;re.\\n\", '\\n', '\\n', 'Перевод\\n', '\\n', '\\t\\tСкажите мне, почему «Похититель»\\n', '\\t\\tОсвистан партером?\\n', '\\t\\tУвы, потому что бедный автор\\n', '\\t\\tПохитил его у Мольера.\\n', '\\n', '\\n', '* * *\\n', '\\n', '\\t\\tJe chante ce combat, que Toly remporta,\\n', '\\t\\tO&#250; inaint guerrier p&#233;rit, o&#249; Paul se signala,\\n']\n"
     ]
    }
   ],
   "source": [
    "import re\n",
    "\n",
    "file_name = 'pushkin.txt'\n",
    "in_file = open(in_dir + file_name, 'r')\n",
    "out_file = open(out_dir + file_name, 'w')\n",
    "lines = in_file.readlines()\n",
    "texts = []\n",
    "\n",
    "text_lines = []\n",
    "for line in lines:\n",
    "    if re.match(r'^\\s*$', line) is not None:\n",
    "        continue\n",
    "    if not line.startswith('\\t\\t'):\n",
    "        if len(text_lines > 0):\n",
    "            texts.append(' '.join(text_lines))\n",
    "        text_lines = []\n",
    "    else:\n",
    "        text_lines.append(line[2:-1])\n",
    "out_file.write('\\n'.join(texts))"
   ]
  },
  {
   "cell_type": "code",
   "execution_count": null,
   "metadata": {},
   "outputs": [],
   "source": []
  }
 ],
 "metadata": {
  "kernelspec": {
   "display_name": "venv",
   "language": "python",
   "name": "venv"
  },
  "language_info": {
   "codemirror_mode": {
    "name": "ipython",
    "version": 3
   },
   "file_extension": ".py",
   "mimetype": "text/x-python",
   "name": "python",
   "nbconvert_exporter": "python",
   "pygments_lexer": "ipython3",
   "version": "3.6.9"
  }
 },
 "nbformat": 4,
 "nbformat_minor": 2
}
